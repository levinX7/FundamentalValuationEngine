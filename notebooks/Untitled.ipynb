{
 "cells": [
  {
   "cell_type": "code",
   "execution_count": 1,
   "id": "476f437f-b326-4c1c-9f13-5a130470abb8",
   "metadata": {},
   "outputs": [
    {
     "ename": "ModuleNotFoundError",
     "evalue": "No module named 'yfinance'",
     "output_type": "error",
     "traceback": [
      "\u001b[31m---------------------------------------------------------------------------\u001b[39m",
      "\u001b[31mModuleNotFoundError\u001b[39m                       Traceback (most recent call last)",
      "\u001b[36mCell\u001b[39m\u001b[36m \u001b[39m\u001b[32mIn[1]\u001b[39m\u001b[32m, line 1\u001b[39m\n\u001b[32m----> \u001b[39m\u001b[32m1\u001b[39m \u001b[38;5;28;01mimport\u001b[39;00m\u001b[38;5;250m \u001b[39m\u001b[34;01myfinance\u001b[39;00m\u001b[38;5;250m \u001b[39m\u001b[38;5;28;01mas\u001b[39;00m\u001b[38;5;250m \u001b[39m\u001b[34;01myf\u001b[39;00m\n\u001b[32m      2\u001b[39m \u001b[38;5;28;01mimport\u001b[39;00m\u001b[38;5;250m \u001b[39m\u001b[34;01mpandas\u001b[39;00m\u001b[38;5;250m \u001b[39m\u001b[38;5;28;01mas\u001b[39;00m\u001b[38;5;250m \u001b[39m\u001b[34;01mpd\u001b[39;00m\n\u001b[32m      4\u001b[39m \u001b[38;5;66;03m# Define ticker\u001b[39;00m\n",
      "\u001b[31mModuleNotFoundError\u001b[39m: No module named 'yfinance'"
     ]
    }
   ],
   "source": [
    "import yfinance as yf\n",
    "import pandas as pd\n",
    "\n",
    "# Define ticker\n",
    "ticker = yf.Ticker(\"AAPL\")  # Change to any ticker you want\n",
    "\n",
    "# Fetch financial data\n",
    "income_stmt = ticker.financials.T  # Transpose so years are rows\n",
    "cash_flow = ticker.cashflow.T\n",
    "balance_sheet = ticker.balance_sheet.T\n",
    "info = ticker.info  # Dictionary of metadata\n",
    "\n",
    "# Filter last 4 years\n",
    "income_stmt = income_stmt.head(4)\n",
    "cash_flow = cash_flow.head(4)\n",
    "balance_sheet = balance_sheet.head(4)\n",
    "\n",
    "# Extract relevant fields\n",
    "income_df = income_stmt[[\n",
    "    'Total Revenue',\n",
    "    'Operating Income',\n",
    "    'Income Before Tax',\n",
    "    'Income Tax Expense'\n",
    "]].copy()\n",
    "\n",
    "cashflow_df = cash_flow[[\n",
    "    'Total Cash From Operating Activities',\n",
    "    'Capital Expenditures'\n",
    "]].copy()\n",
    "\n",
    "balance_df = balance_sheet[[\n",
    "    'Total Current Assets',\n",
    "    'Total Current Liabilities',\n",
    "    'Cash And Cash Equivalents'\n",
    "]].copy()\n",
    "\n",
    "# Stock info (Beta, Market Cap, etc.)\n",
    "info_df = pd.DataFrame.from_dict(info, orient='index', columns=['Value'])\n",
    "\n",
    "# Optional: round values for readability\n",
    "income_df = income_df.round(0)\n",
    "cashflow_df = cashflow_df.round(0)\n",
    "balance_df = balance_df.round(0)\n",
    "\n",
    "# Display\n",
    "print(\"📄 Income Statement (Last 4 Years):\\n\", income_df, \"\\n\")\n",
    "print(\"💵 Cash Flow Statement (Last 4 Years):\\n\", cashflow_df, \"\\n\")\n",
    "print(\"📊 Balance Sheet (Last 4 Years):\\n\", balance_df, \"\\n\")\n",
    "print(\"📈 Stock Info:\\n\", info_df.loc[['beta', 'marketCap', 'sharesOutstanding', 'sector']])"
   ]
  },
  {
   "cell_type": "code",
   "execution_count": null,
   "id": "b417cc07-4f5d-45ac-bbc3-0f818188ae43",
   "metadata": {},
   "outputs": [],
   "source": []
  }
 ],
 "metadata": {
  "kernelspec": {
   "display_name": "venv",
   "language": "python",
   "name": "venv"
  },
  "language_info": {
   "codemirror_mode": {
    "name": "ipython",
    "version": 3
   },
   "file_extension": ".py",
   "mimetype": "text/x-python",
   "name": "python",
   "nbconvert_exporter": "python",
   "pygments_lexer": "ipython3",
   "version": "3.13.5"
  }
 },
 "nbformat": 4,
 "nbformat_minor": 5
}
