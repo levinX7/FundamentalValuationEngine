import yfinance as yf
import pandas as pd

# Define ticker
ticker = yf.Ticker("AAPL")  # Change to any ticker you want

# Fetch financial data
income_stmt = ticker.financials.T  # Transpose so years are rows
cash_flow = ticker.cashflow.T
balance_sheet = ticker.balance_sheet.T
info = ticker.info  # Dictionary of metadata

# Filter last 4 years
income_stmt = income_stmt.head(4)
cash_flow = cash_flow.head(4)
balance_sheet = balance_sheet.head(4)

# Extract relevant fields
income_df = income_stmt[[
    'Total Revenue',
    'Operating Income',
    'Income Before Tax',
    'Income Tax Expense'
]].copy()

cashflow_df = cash_flow[[
    'Total Cash From Operating Activities',
    'Capital Expenditures'
]].copy()

balance_df = balance_sheet[[
    'Total Current Assets',
    'Total Current Liabilities',
    'Cash And Cash Equivalents'
]].copy()

# Stock info (Beta, Market Cap, etc.)
info_df = pd.DataFrame.from_dict(info, orient='index', columns=['Value'])

# Optional: round values for readability
income_df = income_df.round(0)
cashflow_df = cashflow_df.round(0)
balance_df = balance_df.round(0)

# Display
print("📄 Income Statement (Last 4 Years):\n", income_df, "\n")
print("💵 Cash Flow Statement (Last 4 Years):\n", cashflow_df, "\n")
print("📊 Balance Sheet (Last 4 Years):\n", balance_df, "\n")
print("📈 Stock Info:\n", info_df.loc[['beta', 'marketCap', 'sharesOutstanding', 'sector']])



